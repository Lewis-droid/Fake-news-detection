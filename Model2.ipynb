{
 "cells": [
  {
   "cell_type": "code",
   "execution_count": null,
   "metadata": {},
   "outputs": [
    {
     "name": "stdout",
     "output_type": "stream",
     "text": [
      "Accuracy: 0.8453038674033149\n",
      "Classification Report:\n",
      "              precision    recall  f1-score   support\n",
      "\n",
      "        FAKE       0.98      0.71      0.82       628\n",
      "        REAL       0.77      0.98      0.87       639\n",
      "\n",
      "    accuracy                           0.85      1267\n",
      "   macro avg       0.87      0.84      0.84      1267\n",
      "weighted avg       0.87      0.85      0.84      1267\n",
      "\n"
     ]
    }
   ],
   "source": [
    "import pandas as pd # type: ignore\n",
    "from sklearn.model_selection import train_test_split # type: ignore\n",
    "from sklearn.feature_extraction.text import TfidfVectorizer # type: ignore\n",
    "from sklearn.naive_bayes import MultinomialNB # type: ignore\n",
    "from sklearn.metrics import accuracy_score, classification_report # type: ignore\n",
    "\n",
    "# Load dataset\n",
    "# Replace 'news.csv' with your dataset file path\n",
    "# The dataset should have two columns: 'text' (news content) and 'label' (real or fake)\n",
    "data = pd.read_csv('news.csv')\n",
    "\n",
    "# Split dataset into features and labels\n",
    "X = data['text']\n",
    "y = data['label']\n",
    "\n",
    "# Split data into training and testing sets\n",
    "X_train, X_test, y_train, y_test = train_test_split(X, y, test_size=0.2, random_state=42)\n",
    "\n",
    "# Convert text data to TF-IDF features\n",
    "vectorizer = TfidfVectorizer(stop_words='english', max_df=0.7)\n",
    "X_train_tfidf = vectorizer.fit_transform(X_train)\n",
    "X_test_tfidf = vectorizer.transform(X_test)\n",
    "\n",
    "# Train a Naive Bayes classifier\n",
    "model = MultinomialNB()\n",
    "model.fit(X_train_tfidf, y_train)\n",
    "\n",
    "# Make predictions\n",
    "y_pred = model.predict(X_test_tfidf)\n",
    "\n",
    "# Evaluate the model\n",
    "accuracy = accuracy_score(y_test, y_pred)\n",
    "print(f\"Accuracy: {accuracy}\")\n",
    "print(\"Classification Report:\") \n",
    "print(classification_report(y_test, y_pred))"
   ]
  },
  {
   "cell_type": "code",
   "execution_count": 1,
   "metadata": {},
   "outputs": [
    {
     "ename": "NameError",
     "evalue": "name 'vectorizer' is not defined",
     "output_type": "error",
     "traceback": [
      "\u001b[31m---------------------------------------------------------------------------\u001b[39m",
      "\u001b[31mNameError\u001b[39m                                 Traceback (most recent call last)",
      "\u001b[36mCell\u001b[39m\u001b[36m \u001b[39m\u001b[32mIn[1]\u001b[39m\u001b[32m, line 8\u001b[39m\n\u001b[32m      5\u001b[39m     \u001b[38;5;28;01mbreak\u001b[39;00m\n\u001b[32m      7\u001b[39m \u001b[38;5;66;03m# Transform the input text using the trained vectorizer\u001b[39;00m\n\u001b[32m----> \u001b[39m\u001b[32m8\u001b[39m input_tfidf = \u001b[43mvectorizer\u001b[49m.transform([user_input])\n\u001b[32m     10\u001b[39m \u001b[38;5;66;03m# Predict the label using the trained model\u001b[39;00m\n\u001b[32m     11\u001b[39m prediction = model.predict(input_tfidf)[\u001b[32m0\u001b[39m]\n",
      "\u001b[31mNameError\u001b[39m: name 'vectorizer' is not defined"
     ]
    }
   ],
   "source": [
    "# Interface to input news and predict whether it is true or false\n",
    "while True:\n",
    "    user_input = input(\"Enter news content (or type 'exit' to quit): \")\n",
    "    if user_input.lower() == 'exit':\n",
    "        break\n",
    "    \n",
    "    # Transform the input text using the trained vectorizer\n",
    "    input_tfidf = vectorizer.transform([user_input])\n",
    "    \n",
    "    # Predict the label using the trained model\n",
    "    prediction = model.predict(input_tfidf)[0]\n",
    "    \n",
    "    # Output the result\n",
    "    print(f\"The news is predicted to be: {'Real' if prediction == 'real' else 'Fake'}\")"
   ]
  }
 ],
 "metadata": {
  "kernelspec": {
   "display_name": "venv",
   "language": "python",
   "name": "python3"
  },
  "language_info": {
   "codemirror_mode": {
    "name": "ipython",
    "version": 3
   },
   "file_extension": ".py",
   "mimetype": "text/x-python",
   "name": "python",
   "nbconvert_exporter": "python",
   "pygments_lexer": "ipython3",
   "version": "3.13.2"
  }
 },
 "nbformat": 4,
 "nbformat_minor": 2
}
