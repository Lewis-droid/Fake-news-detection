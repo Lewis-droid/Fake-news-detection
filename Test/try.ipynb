{
 "cells": [
  {
   "cell_type": "code",
   "execution_count": null,
   "metadata": {},
   "outputs": [],
   "source": [
    "import pandas as pd"
   ]
  },
  {
   "cell_type": "code",
   "execution_count": null,
   "metadata": {},
   "outputs": [],
   "source": [
    "# Creating a MultiIndex DataFrame\n",
    "arrays = [['A', 'A', 'B', 'B'], [1, 2, 1, 2]]\n",
    "index = pd.MultiIndex.from_arrays(arrays, names=('Group', 'Number'))\n",
    "df = pd.DataFrame({'Value': [10, 20, 30, 40]}, index=index)\n",
    "print(df)\n"
   ]
  },
  {
   "cell_type": "code",
   "execution_count": null,
   "metadata": {},
   "outputs": [],
   "source": [
    "# Resampling time-series data\n",
    "ts = df.resample('M').mean()  # Monthly resampling\n",
    "print(ts)\n"
   ]
  },
  {
   "cell_type": "code",
   "execution_count": 1,
   "metadata": {},
   "outputs": [
    {
     "name": "stdout",
     "output_type": "stream",
     "text": [
      "Feature names: ['also' 'enjoy' 'fun' 'in' 'is' 'learning' 'love' 'machine' 'programming'\n",
      " 'python']\n",
      "TF-IDF matrix:\n",
      " [[0.         0.         0.         0.5628291  0.         0.\n",
      "  0.5628291  0.         0.42804604 0.42804604]\n",
      " [0.         0.         0.5628291  0.         0.5628291  0.\n",
      "  0.         0.         0.42804604 0.42804604]\n",
      " [0.37796447 0.37796447 0.         0.         0.         0.75592895\n",
      "  0.         0.37796447 0.         0.        ]]\n"
     ]
    }
   ],
   "source": [
    "from sklearn.feature_extraction.text import TfidfVectorizer\n",
    "\n",
    "# Sample text documents\n",
    "documents = [\n",
    "    \"I love programming in Python\",\n",
    "    \"Python programming is fun\",\n",
    "    \"I also enjoy learning machine learning\"\n",
    "]\n",
    "\n",
    "# Create a TF-IDF vectorizer\n",
    "vectorizer = TfidfVectorizer()\n",
    "\n",
    "# Fit and transform the documents\n",
    "tfidf_matrix = vectorizer.fit_transform(documents)\n",
    "\n",
    "# Feature names\n",
    "print(\"Feature names:\", vectorizer.get_feature_names_out())\n",
    "\n",
    "# TF-IDF matrix as an array\n",
    "print(\"TF-IDF matrix:\\n\", tfidf_matrix.toarray())\n"
   ]
  }
 ],
 "metadata": {
  "kernelspec": {
   "display_name": "venv",
   "language": "python",
   "name": "python3"
  },
  "language_info": {
   "codemirror_mode": {
    "name": "ipython",
    "version": 3
   },
   "file_extension": ".py",
   "mimetype": "text/x-python",
   "name": "python",
   "nbconvert_exporter": "python",
   "pygments_lexer": "ipython3",
   "version": "3.13.2"
  }
 },
 "nbformat": 4,
 "nbformat_minor": 2
}
