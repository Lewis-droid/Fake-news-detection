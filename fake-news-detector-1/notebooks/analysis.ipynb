{
 "cells": [
  {
   "cell_type": "markdown",
   "metadata": {},
   "source": [
    "# Fake News Detector Analysis\n",
    "\n",
    "This notebook is used for exploratory data analysis (EDA) and visualization of the datasets used in the Fake News Detector project. The datasets include news articles classified as false and true."
   ]
  },
  {
   "cell_type": "code",
   "execution_count": null,
   "metadata": {
    "collapsed": false
   },
   "outputs": [],
   "source": [
    "import pandas as pd\n",
    "import matplotlib.pyplot as plt\n",
    "import seaborn as sns\n",
    "\n",
    "# Load the datasets\n",
    "false_data = pd.read_csv('../data/false.kisiiuniversity.csv')\n",
    "true_data = pd.read_csv('../data/true.kisiiuniversity.csv')\n",
    "\n",
    "# Display the first few rows of each dataset\n",
    "print(\"False News Data:\")\n",
    "display(false_data.head())\n",
    "\n",
    "print(\"True News Data:\")\n",
    "display(true_data.head())\n",
    "\n",
    "# Basic statistics\n",
    "print(\"False News Data Description:\")\n",
    "display(false_data.describe())\n",
    "\n",
    "print(\"True News Data Description:\")\n",
    "display(true_data.describe())\n",
    "\n",
    "# Visualizations\n",
    "plt.figure(figsize=(12, 6))\n",
    "sns.countplot(x='label', data=false_data)\n",
    "plt.title('Distribution of False News Articles')\n",
    "plt.show()\n",
    "\n",
    "plt.figure(figsize=(12, 6))\n",
    "sns.countplot(x='label', data=true_data)\n",
    "plt.title('Distribution of True News Articles')\n",
    "plt.show()"
   ]
  }
 ],
 "metadata": {
  "kernelspec": {
   "display_name": "Python 3",
   "language": "python",
   "name": "python3"
  },
  "language_info": {
   "codemirror_mode": {
    "name": "ipython",
    "version": 3
   },
   "file_extension": ".py",
   "mimetype": "text/x-python",
   "name": "python",
   "nbconvert_exporter": "python",
   "pygments_lexer": "ipython3",
   "version": "3.8.5"
  }
 },
 "nbformat": 4,
 "nbformat_minor": 4
}